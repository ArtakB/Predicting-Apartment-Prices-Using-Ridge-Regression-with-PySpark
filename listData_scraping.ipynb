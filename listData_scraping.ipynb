{
 "cells": [
  {
   "cell_type": "code",
   "execution_count": 1,
   "metadata": {
    "collapsed": true,
    "jupyter": {
     "outputs_hidden": true
    }
   },
   "outputs": [],
   "source": [
    "import pandas as pd\n",
    "import time\n",
    "from selenium import webdriver\n",
    "\n",
    "options = webdriver.ChromeOptions()\n",
    "driver = webdriver.Chrome(options=options)\n",
    "from selenium.webdriver.common.by import By\n",
    "\n",
    "# load a web page in WebDriver\n",
    "driver.get('https://www.list.am/category/60?n=1&price1=10000&price2=&crc=&_a5=0&_a39=0&_a40=0&_a85=0&_a73=0&_a3_1=&_a3_2=&_a4=0&_a37=0&_a36=0&_a11_1=&_a11_2=&_a41=0&_a78=0&_a38=0&_a82=0&_a77=0')"
   ]
  },
  {
   "cell_type": "code",
   "execution_count": 2,
   "metadata": {
    "collapsed": false,
    "jupyter": {
     "outputs_hidden": false
    }
   },
   "outputs": [],
   "source": [
    "all_apartments = []"
   ]
  },
  {
   "cell_type": "code",
   "execution_count": 3,
   "metadata": {
    "collapsed": false,
    "jupyter": {
     "outputs_hidden": false
    }
   },
   "outputs": [],
   "source": [
    "def change_lang():\n",
    "    # change to eng\n",
    "    lang = driver.find_elements(By.XPATH, '//*[@id=\"lbar\"]')\n",
    "    lang[0].click()\n",
    "    time.sleep(1)\n",
    "    # select english flag\n",
    "    en_lang = driver.find_elements(By.XPATH, '//*[@id=\"lmenu\"]/a[2]')\n",
    "    en_lang[0].click()"
   ]
  },
  {
   "cell_type": "code",
   "execution_count": 4,
   "metadata": {
    "collapsed": false,
    "jupyter": {
     "outputs_hidden": false
    }
   },
   "outputs": [],
   "source": [
    "change_lang()"
   ]
  },
  {
   "cell_type": "code",
   "execution_count": 5,
   "metadata": {
    "collapsed": false,
    "jupyter": {
     "outputs_hidden": false
    }
   },
   "outputs": [],
   "source": [
    "def get_apartment_data():\n",
    "    address = driver.find_element(By.XPATH, '//*[@id=\"abar\"]/div[1]/a')\n",
    "    price = driver.find_element(By.XPATH, '//*[@id=\"abar\"]/div[2]/span[1]')\n",
    "    building_details = driver.find_elements(By.XPATH, '//*[@id=\"pcontent\"]/div/div[3]/div')[:4]\n",
    "    apartment_details = driver.find_elements(By.XPATH, '//*[@id=\"pcontent\"]/div/div[5]/div')[:8]\n",
    "\n",
    "    apartment_data = {\n",
    "        'address': address.text,\n",
    "        'price': price.text\n",
    "    }\n",
    "\n",
    "    details = building_details + apartment_details\n",
    "    for detail in details:\n",
    "        key, value = detail.find_elements(By.CSS_SELECTOR, 'div')\n",
    "        value_text = value.text\n",
    "        if key.text == 'Floor Area':\n",
    "            value_text = value_text.split(' ')[0]\n",
    "        apartment_data[key.text] = value_text\n",
    "    return apartment_data"
   ]
  },
  {
   "cell_type": "code",
   "execution_count": 6,
   "metadata": {
    "collapsed": false,
    "jupyter": {
     "outputs_hidden": false
    }
   },
   "outputs": [],
   "source": [
    "def add_each_apartment(results):\n",
    "    for result in results:\n",
    "        province = result.find_element(By.CSS_SELECTOR, 'div.at')\n",
    "        province_name = province.text\n",
    "        province_name = province_name.split(',')[0]\n",
    "        app_data = {\n",
    "            'province': province_name\n",
    "        }\n",
    "\n",
    "        # open the page of apartment,  and get data about this apartment\n",
    "        result.click()\n",
    "        window_before = driver.window_handles[0]\n",
    "        window_after = driver.window_handles[1]\n",
    "        # go to the opened page(page of apartment)\n",
    "        driver.switch_to.window(window_after)\n",
    "        # get data about this apartment and add to dictionary\n",
    "        app_data.update(get_apartment_data())\n",
    "        # add data of one apartment to list of all apartments\n",
    "        all_apartments.append(app_data)\n",
    "        # close page of apartment and go to the main page\n",
    "        driver.close()\n",
    "        driver.switch_to.window(window_before)"
   ]
  },
  {
   "cell_type": "code",
   "execution_count": 9,
   "metadata": {
    "collapsed": false,
    "jupyter": {
     "outputs_hidden": false
    }
   },
   "outputs": [],
   "source": [
    "def get_one_page_data():\n",
    "    top_results = driver.find_elements(By.XPATH, '//*[@id=\"tp\"]/div[2]/div/a')\n",
    "    regular_results = driver.find_elements(By.XPATH, '//*[@id=\"contentr\"]/div[4]/div[1]/a')\n",
    "    results = top_results + regular_results\n",
    "    add_each_apartment(results)"
   ]
  },
  {
   "cell_type": "code",
   "execution_count": 10,
   "metadata": {
    "collapsed": false,
    "jupyter": {
     "outputs_hidden": false
    }
   },
   "outputs": [
    {
     "name": "stdout",
     "output_type": "stream",
     "text": [
      "[<selenium.webdriver.remote.webelement.WebElement (session=\"de3da086b6f67b55c601fd646d39c457\", element=\"7DA56B5110C325BA0B2E05B8391B29F5_element_434\")>, <selenium.webdriver.remote.webelement.WebElement (session=\"de3da086b6f67b55c601fd646d39c457\", element=\"7DA56B5110C325BA0B2E05B8391B29F5_element_435\")>]\n"
     ]
    }
   ],
   "source": [
    "poit = 0\n",
    "\n",
    "# get data from every page of pagination in every cycle\n",
    "while poit < 11:\n",
    "    get_one_page_data()\n",
    "\n",
    "    # go to next pagination\n",
    "    next_button = driver.find_elements(By.XPATH, '//*[@id=\"contentr\"]/div[4]/div[2]/a')[-1]\n",
    "    next_button.click()\n",
    "    poit += 1"
   ]
  },
  {
   "cell_type": "code",
   "execution_count": 532,
   "metadata": {
    "collapsed": false,
    "jupyter": {
     "outputs_hidden": false
    }
   },
   "outputs": [
    {
     "data": {
      "text/plain": [
       "1155"
      ]
     },
     "execution_count": 532,
     "metadata": {},
     "output_type": "execute_result"
    }
   ],
   "source": [
    "len(all_apartments)"
   ]
  },
  {
   "cell_type": "code",
   "execution_count": 534,
   "metadata": {
    "collapsed": false,
    "jupyter": {
     "outputs_hidden": false
    }
   },
   "outputs": [
    {
     "data": {
      "text/html": [
       "<div>\n",
       "<style scoped>\n",
       "    .dataframe tbody tr th:only-of-type {\n",
       "        vertical-align: middle;\n",
       "    }\n",
       "\n",
       "    .dataframe tbody tr th {\n",
       "        vertical-align: top;\n",
       "    }\n",
       "\n",
       "    .dataframe thead th {\n",
       "        text-align: right;\n",
       "    }\n",
       "</style>\n",
       "<table border=\"1\" class=\"dataframe\">\n",
       "  <thead>\n",
       "    <tr style=\"text-align: right;\">\n",
       "      <th></th>\n",
       "      <th>province</th>\n",
       "      <th>address</th>\n",
       "      <th>price</th>\n",
       "      <th>Construction Type</th>\n",
       "      <th>New Construction</th>\n",
       "      <th>Elevator</th>\n",
       "      <th>Floors in the Building</th>\n",
       "      <th>Floor Area</th>\n",
       "      <th>Number of Rooms</th>\n",
       "      <th>Number of Bathrooms</th>\n",
       "      <th>Ceiling Height</th>\n",
       "      <th>Floor</th>\n",
       "      <th>Balcony</th>\n",
       "      <th>Furniture</th>\n",
       "      <th>Renovation</th>\n",
       "    </tr>\n",
       "  </thead>\n",
       "  <tbody>\n",
       "    <tr>\n",
       "      <th>0</th>\n",
       "      <td>Kentron</td>\n",
       "      <td>Kristapor street 20, Yerevan</td>\n",
       "      <td>$158,000</td>\n",
       "      <td>Stone</td>\n",
       "      <td>No</td>\n",
       "      <td>Not available</td>\n",
       "      <td>5</td>\n",
       "      <td>50</td>\n",
       "      <td>3</td>\n",
       "      <td>1</td>\n",
       "      <td>from 3 m</td>\n",
       "      <td>4</td>\n",
       "      <td>Closed balcony</td>\n",
       "      <td>Available</td>\n",
       "      <td>Designer Renovation</td>\n",
       "    </tr>\n",
       "    <tr>\n",
       "      <th>1</th>\n",
       "      <td>Kentron</td>\n",
       "      <td>Աբովյան փողոց, Երևան</td>\n",
       "      <td>$260,000</td>\n",
       "      <td>Stone</td>\n",
       "      <td>No</td>\n",
       "      <td>Not available</td>\n",
       "      <td>5</td>\n",
       "      <td>103</td>\n",
       "      <td>3</td>\n",
       "      <td>1</td>\n",
       "      <td>from 2.75 m</td>\n",
       "      <td>2</td>\n",
       "      <td>Closed balcony</td>\n",
       "      <td>Available</td>\n",
       "      <td>Cosmetic Renovation</td>\n",
       "    </tr>\n",
       "    <tr>\n",
       "      <th>2</th>\n",
       "      <td>Kentron</td>\n",
       "      <td>Улица Сарьяна 38, Yerevan</td>\n",
       "      <td>$205,000</td>\n",
       "      <td>Monolith</td>\n",
       "      <td>No</td>\n",
       "      <td>Available</td>\n",
       "      <td>16</td>\n",
       "      <td>100</td>\n",
       "      <td>3</td>\n",
       "      <td>1</td>\n",
       "      <td>from 2.7 m</td>\n",
       "      <td>13</td>\n",
       "      <td>Multiple balconies</td>\n",
       "      <td>Partial Furniture</td>\n",
       "      <td>Partial Renovation</td>\n",
       "    </tr>\n",
       "    <tr>\n",
       "      <th>3</th>\n",
       "      <td>Kanaker-Zeytun</td>\n",
       "      <td>Dro street, Yerevan</td>\n",
       "      <td>$119,000</td>\n",
       "      <td>Panels</td>\n",
       "      <td>No</td>\n",
       "      <td>Available</td>\n",
       "      <td>13</td>\n",
       "      <td>75</td>\n",
       "      <td>4</td>\n",
       "      <td>1</td>\n",
       "      <td>from 2.7 m</td>\n",
       "      <td>9</td>\n",
       "      <td>Not available</td>\n",
       "      <td>Available</td>\n",
       "      <td>Major Renovation</td>\n",
       "    </tr>\n",
       "    <tr>\n",
       "      <th>4</th>\n",
       "      <td>Erebuni</td>\n",
       "      <td>Rostovyan street, Yerevan</td>\n",
       "      <td>$45,000</td>\n",
       "      <td>Stone</td>\n",
       "      <td>No</td>\n",
       "      <td>Not available</td>\n",
       "      <td>5</td>\n",
       "      <td>29</td>\n",
       "      <td>1</td>\n",
       "      <td>1</td>\n",
       "      <td>from 2.7 m</td>\n",
       "      <td>1</td>\n",
       "      <td>Not available</td>\n",
       "      <td>Not available</td>\n",
       "      <td>Old Renovation</td>\n",
       "    </tr>\n",
       "    <tr>\n",
       "      <th>...</th>\n",
       "      <td>...</td>\n",
       "      <td>...</td>\n",
       "      <td>...</td>\n",
       "      <td>...</td>\n",
       "      <td>...</td>\n",
       "      <td>...</td>\n",
       "      <td>...</td>\n",
       "      <td>...</td>\n",
       "      <td>...</td>\n",
       "      <td>...</td>\n",
       "      <td>...</td>\n",
       "      <td>...</td>\n",
       "      <td>...</td>\n",
       "      <td>...</td>\n",
       "      <td>...</td>\n",
       "    </tr>\n",
       "    <tr>\n",
       "      <th>1150</th>\n",
       "      <td>Kentron</td>\n",
       "      <td>Agatangeghos Street, Yerevan</td>\n",
       "      <td>$193,800</td>\n",
       "      <td>Panels</td>\n",
       "      <td>No</td>\n",
       "      <td>Available</td>\n",
       "      <td>11</td>\n",
       "      <td>83</td>\n",
       "      <td>3</td>\n",
       "      <td>1</td>\n",
       "      <td>from 2.8 m</td>\n",
       "      <td>5</td>\n",
       "      <td>Open balcony</td>\n",
       "      <td>Available</td>\n",
       "      <td>Major Renovation</td>\n",
       "    </tr>\n",
       "    <tr>\n",
       "      <th>1151</th>\n",
       "      <td>Nor Nork</td>\n",
       "      <td>Nansen street lane, Yerevan</td>\n",
       "      <td>$123,000</td>\n",
       "      <td>Panels</td>\n",
       "      <td>No</td>\n",
       "      <td>Not available</td>\n",
       "      <td>5</td>\n",
       "      <td>78</td>\n",
       "      <td>3</td>\n",
       "      <td>1</td>\n",
       "      <td>from 2.6 m</td>\n",
       "      <td>5</td>\n",
       "      <td>Closed balcony</td>\n",
       "      <td>Available</td>\n",
       "      <td>Cosmetic Renovation</td>\n",
       "    </tr>\n",
       "    <tr>\n",
       "      <th>1152</th>\n",
       "      <td>Nor Nork</td>\n",
       "      <td>Minsk Street, Yerevan</td>\n",
       "      <td>$120,000</td>\n",
       "      <td>Panels</td>\n",
       "      <td>No</td>\n",
       "      <td>Available</td>\n",
       "      <td>9</td>\n",
       "      <td>93</td>\n",
       "      <td>4</td>\n",
       "      <td>2</td>\n",
       "      <td>from 2.75 m</td>\n",
       "      <td>7</td>\n",
       "      <td>Open balcony</td>\n",
       "      <td>Available</td>\n",
       "      <td>Partial Renovation</td>\n",
       "    </tr>\n",
       "    <tr>\n",
       "      <th>1153</th>\n",
       "      <td>Kentron</td>\n",
       "      <td>Amiryan Street, Yerevan</td>\n",
       "      <td>$550,000</td>\n",
       "      <td>Stone</td>\n",
       "      <td>No</td>\n",
       "      <td>Not available</td>\n",
       "      <td>4</td>\n",
       "      <td>172</td>\n",
       "      <td>6</td>\n",
       "      <td>2</td>\n",
       "      <td>from 3.2 m</td>\n",
       "      <td>4</td>\n",
       "      <td>Open balcony</td>\n",
       "      <td>Available</td>\n",
       "      <td>Old Renovation</td>\n",
       "    </tr>\n",
       "    <tr>\n",
       "      <th>1154</th>\n",
       "      <td>Kentron</td>\n",
       "      <td>Փավստոս Բուզանդի փողոց, Երևան</td>\n",
       "      <td>$330,000</td>\n",
       "      <td>Monolith</td>\n",
       "      <td>Yes</td>\n",
       "      <td>Available</td>\n",
       "      <td>17</td>\n",
       "      <td>49</td>\n",
       "      <td>2</td>\n",
       "      <td>1</td>\n",
       "      <td>from 3 m</td>\n",
       "      <td>6</td>\n",
       "      <td>Open balcony</td>\n",
       "      <td>Available</td>\n",
       "      <td>Designer Renovation</td>\n",
       "    </tr>\n",
       "  </tbody>\n",
       "</table>\n",
       "<p>1155 rows × 15 columns</p>\n",
       "</div>"
      ],
      "text/plain": [
       "            province                        address     price  \\\n",
       "0            Kentron   Kristapor street 20, Yerevan  $158,000   \n",
       "1            Kentron           Աբովյան փողոց, Երևան  $260,000   \n",
       "2            Kentron      Улица Сарьяна 38, Yerevan  $205,000   \n",
       "3     Kanaker-Zeytun            Dro street, Yerevan  $119,000   \n",
       "4            Erebuni      Rostovyan street, Yerevan   $45,000   \n",
       "...              ...                            ...       ...   \n",
       "1150         Kentron   Agatangeghos Street, Yerevan  $193,800   \n",
       "1151        Nor Nork    Nansen street lane, Yerevan  $123,000   \n",
       "1152        Nor Nork          Minsk Street, Yerevan  $120,000   \n",
       "1153         Kentron        Amiryan Street, Yerevan  $550,000   \n",
       "1154         Kentron  Փավստոս Բուզանդի փողոց, Երևան  $330,000   \n",
       "\n",
       "     Construction Type New Construction       Elevator Floors in the Building  \\\n",
       "0                Stone               No  Not available                      5   \n",
       "1                Stone               No  Not available                      5   \n",
       "2             Monolith               No      Available                     16   \n",
       "3               Panels               No      Available                     13   \n",
       "4                Stone               No  Not available                      5   \n",
       "...                ...              ...            ...                    ...   \n",
       "1150            Panels               No      Available                     11   \n",
       "1151            Panels               No  Not available                      5   \n",
       "1152            Panels               No      Available                      9   \n",
       "1153             Stone               No  Not available                      4   \n",
       "1154          Monolith              Yes      Available                     17   \n",
       "\n",
       "     Floor Area Number of Rooms Number of Bathrooms Ceiling Height Floor  \\\n",
       "0            50               3                   1       from 3 m     4   \n",
       "1           103               3                   1    from 2.75 m     2   \n",
       "2           100               3                   1     from 2.7 m    13   \n",
       "3            75               4                   1     from 2.7 m     9   \n",
       "4            29               1                   1     from 2.7 m     1   \n",
       "...         ...             ...                 ...            ...   ...   \n",
       "1150         83               3                   1     from 2.8 m     5   \n",
       "1151         78               3                   1     from 2.6 m     5   \n",
       "1152         93               4                   2    from 2.75 m     7   \n",
       "1153        172               6                   2     from 3.2 m     4   \n",
       "1154         49               2                   1       from 3 m     6   \n",
       "\n",
       "                 Balcony          Furniture           Renovation  \n",
       "0         Closed balcony          Available  Designer Renovation  \n",
       "1         Closed balcony          Available  Cosmetic Renovation  \n",
       "2     Multiple balconies  Partial Furniture   Partial Renovation  \n",
       "3          Not available          Available     Major Renovation  \n",
       "4          Not available      Not available       Old Renovation  \n",
       "...                  ...                ...                  ...  \n",
       "1150        Open balcony          Available     Major Renovation  \n",
       "1151      Closed balcony          Available  Cosmetic Renovation  \n",
       "1152        Open balcony          Available   Partial Renovation  \n",
       "1153        Open balcony          Available       Old Renovation  \n",
       "1154        Open balcony          Available  Designer Renovation  \n",
       "\n",
       "[1155 rows x 15 columns]"
      ]
     },
     "execution_count": 534,
     "metadata": {},
     "output_type": "execute_result"
    }
   ],
   "source": [
    "df1 = pd.DataFrame(all_apartments)\n",
    "df1"
   ]
  },
  {
   "cell_type": "code",
   "execution_count": 535,
   "metadata": {
    "collapsed": false,
    "jupyter": {
     "outputs_hidden": false
    }
   },
   "outputs": [],
   "source": [
    "df1.to_csv('apartments1.csv', index=False)"
   ]
  },
  {
   "cell_type": "code",
   "execution_count": 542,
   "metadata": {
    "collapsed": false,
    "jupyter": {
     "outputs_hidden": false
    }
   },
   "outputs": [],
   "source": [
    "driver.quit()"
   ]
  }
 ],
 "metadata": {
  "kernelspec": {
   "display_name": "Python 3 (ipykernel)",
   "language": "python",
   "name": "python3"
  },
  "language_info": {
   "codemirror_mode": {
    "name": "ipython",
    "version": 3
   },
   "file_extension": ".py",
   "mimetype": "text/x-python",
   "name": "python",
   "nbconvert_exporter": "python",
   "pygments_lexer": "ipython3",
   "version": "3.11.7"
  }
 },
 "nbformat": 4,
 "nbformat_minor": 4
}
